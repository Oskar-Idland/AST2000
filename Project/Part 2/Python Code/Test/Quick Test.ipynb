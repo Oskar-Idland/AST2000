{
 "cells": [
  {
   "cell_type": "code",
   "execution_count": 4,
   "metadata": {},
   "outputs": [],
   "source": [
    "import numpy as np\n",
    "\n",
    "arr = np.array([2, 1, 2, 1, 2])\n",
    "\n",
    "res = 4\n",
    "\n",
    "for i in range(1,int(len(arr)/res)):\n",
    "\tprint(arr[-res*(i+1):res*i])"
   ]
  },
  {
   "cell_type": "code",
   "execution_count": 1,
   "metadata": {},
   "outputs": [
    {
     "name": "stdout",
     "output_type": "stream",
     "text": [
      "[2. 4. 6. 8.]\n",
      "6 0 2\n",
      "12 2 4\n",
      "18 4 6\n",
      "24 6 8\n"
     ]
    },
    {
     "data": {
      "image/png": "[encoded data removed]",
      "text/plain": [
       "<Figure size 432x288 with 1 Axes>"
      ]
     },
     "metadata": {
      "needs_background": "light"
     },
     "output_type": "display_data"
    }
   ],
   "source": [
    "import numpy as np\n",
    "import matplotlib.pyplot as plt\n",
    "\n",
    "res = 2\n",
    "arr = np.array([1, 2, 3, 4, 5, 6, 7, 8, 9, 10])\n",
    "x = np.linspace(1,10,10)\n",
    "x = x[res - 1:-res:res]\n",
    "print(x)\n",
    "clean_arr = np.zeros_like(x)\n",
    "\n",
    "for i in range(int(len(arr[1::res])-1)):\n",
    "    print(sum(arr[i*res:(i+1)*res + 1]), i*res, (i+1)*res)\n",
    "    clean_arr[i] = sum(arr[i*res:(i+1)*res + 1])\n",
    "    \n",
    "plt.scatter(x,clean_arr)\n",
    "plt.xticks(x)\n",
    "plt.yticks([6,12, 18, 24])\n",
    "plt.grid()\n",
    "\n",
    "plt.show()"
   ]
  },
  {
   "cell_type": "code",
   "execution_count": null,
   "metadata": {},
   "outputs": [],
   "source": []
  },
  {
   "cell_type": "code",
   "execution_count": null,
   "metadata": {},
   "outputs": [],
   "source": [
    "import numpy as np\n",
    "import matplotlib.pyplot as plt\n",
    "\n",
    "res = 2\n",
    "arr = np.array([1, 2, 3, 4, 5, 6, 7, 8, 9, 10])\n",
    "x = np.linspace(1,10,10)\n",
    "x = x[res - 1:-res:res]\n",
    "print(x)\n",
    "clean_arr = np.zeros_like(x)\n",
    "\n",
    "for i in range(int(len(arr[1::res])-1)):\n",
    "    print(sum(arr[i*res:(i+1)*res + 1]), i*res, (i+1)*res)\n",
    "    clean_arr[i] = sum(arr[i*res:(i+1)*res + 1])\n",
    "    \n",
    "plt.scatter(x,clean_arr)\n",
    "plt.xticks(x)\n",
    "plt.yticks([6,12, 18, 24])\n",
    "plt.grid()\n",
    "\n",
    "plt.show()"
   ]
  }
 ],
 "metadata": {
  "kernelspec": {
   "display_name": "Python 3.9.12 ('base')",
   "language": "python",
   "name": "python3"
  },
  "language_info": {
   "codemirror_mode": {
    "name": "ipython",
    "version": 3
   },
   "file_extension": ".py",
   "mimetype": "text/x-python",
   "name": "python",
   "nbconvert_exporter": "python",
   "pygments_lexer": "ipython3",
   "version": "3.9.12"
  },
  "orig_nbformat": 4,
  "vscode": {
   "interpreter": {
    "hash": "a9074b95f083ecba89b9282f7f5e9c53e7d7ab2703d1f890251fa880ef741439"
   }
  }
 },
 "nbformat": 4,
 "nbformat_minor": 2
}
